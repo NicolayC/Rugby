{
  "nbformat": 4,
  "nbformat_minor": 0,
  "metadata": {
    "colab": {
      "provenance": [],
      "authorship_tag": "ABX9TyOBWRZ0+3j8FAj6b8MpX+BB",
      "include_colab_link": true
    },
    "kernelspec": {
      "name": "python3",
      "display_name": "Python 3"
    },
    "language_info": {
      "name": "python"
    }
  },
  "cells": [
    {
      "cell_type": "markdown",
      "metadata": {
        "id": "view-in-github",
        "colab_type": "text"
      },
      "source": [
        "<a href=\"https://colab.research.google.com/github/NicolayC/Rugby/blob/main/Rugby.ipynb\" target=\"_parent\"><img src=\"https://colab.research.google.com/assets/colab-badge.svg\" alt=\"Open In Colab\"/></a>"
      ]
    },
    {
      "cell_type": "markdown",
      "source": [
        "#Instalación y configuración inicial"
      ],
      "metadata": {
        "id": "-M-jcKmeaDlf"
      }
    },
    {
      "cell_type": "code",
      "execution_count": null,
      "metadata": {
        "collapsed": true,
        "id": "M87oBwq2ZxAl"
      },
      "outputs": [],
      "source": [
        "# Instalación de dependencias\n",
        "!pip install torch torchvision ultralytics mlflow\n",
        "# Mostrar si hay GPU disponible\n",
        "!nvidia-smi"
      ]
    },
    {
      "cell_type": "code",
      "source": [
        "!pip install --upgrade mlflow ultralytics"
      ],
      "metadata": {
        "collapsed": true,
        "id": "lNofm-B0sHGZ"
      },
      "execution_count": null,
      "outputs": []
    },
    {
      "cell_type": "markdown",
      "source": [
        "# Dataset"
      ],
      "metadata": {
        "id": "DoYwYJnt3PyK"
      }
    },
    {
      "cell_type": "code",
      "source": [
        "# Desde Roboflow\n",
        "!curl -L \"InsertarURL\" > roboflow.zip; unzip roboflow.zip; rm roboflow.zip"
      ],
      "metadata": {
        "collapsed": true,
        "id": "hNHtbhH63Sy0"
      },
      "execution_count": null,
      "outputs": []
    },
    {
      "cell_type": "markdown",
      "source": [
        "# Drive"
      ],
      "metadata": {
        "id": "H7AsM9o1voF7"
      }
    },
    {
      "cell_type": "code",
      "source": [
        "from google.colab import drive\n",
        "drive.mount('/content/drive', force_remount=True)"
      ],
      "metadata": {
        "id": "0kMftyTIvsVj"
      },
      "execution_count": null,
      "outputs": []
    },
    {
      "cell_type": "markdown",
      "source": [
        "# Importaciones globales"
      ],
      "metadata": {
        "id": "l9yPFBLNae4c"
      }
    },
    {
      "cell_type": "code",
      "source": [
        "from ultralytics import YOLO, RTDETR\n",
        "import mlflow\n",
        "import matplotlib.pyplot as plt\n",
        "import cv2\n",
        "import numpy as np"
      ],
      "metadata": {
        "collapsed": true,
        "id": "126FSkclaMSs"
      },
      "execution_count": null,
      "outputs": []
    },
    {
      "cell_type": "markdown",
      "source": [
        "# Función para inicializar MLflow + entrenamiento"
      ],
      "metadata": {
        "id": "-jqJm9y1a1Qf"
      }
    },
    {
      "cell_type": "code",
      "source": [
        "def entrenar_modelo(model_class, weights_path, experiment_name, run_name, data_yaml, **train_args):\n",
        "  mlflow.set_experiment(experiment_name)\n",
        "  mlflow.autolog()\n",
        "\n",
        "  with mlflow.start_run(run_name=run_name) as run:\n",
        "    model = model_class(weights_path)\n",
        "    results = model.train(data=data_yaml, **train_args)\n",
        "    print(f\"Run ID: {run.info.run_id}\")\n",
        "\n",
        "  mlflow.end_run()\n",
        "  return model"
      ],
      "metadata": {
        "id": "v9Xk-uimbAsT"
      },
      "execution_count": null,
      "outputs": []
    },
    {
      "cell_type": "markdown",
      "source": [
        "# Entrenamiento con YOLOv8"
      ],
      "metadata": {
        "id": "2Zp4bvw7b_hc"
      }
    },
    {
      "cell_type": "code",
      "source": [
        "yolo_model = entrenar_modelo(\n",
        "    model_class=YOLO,\n",
        "    weights_path=\"yolov8n.pt\",\n",
        "    experiment_name=\"YOLOv8_Rugby_Test1\",\n",
        "    run_name=\"training_datav1\",\n",
        "    data_yaml='/content/data.yaml',\n",
        "    epochs=6,\n",
        "    # Para ejecutar con GPU\n",
        "    #device='cuda'\n",
        "    device='cpu',\n",
        "    batch=8,\n",
        "    cos_lr=True,\n",
        "    augment=True\n",
        ")"
      ],
      "metadata": {
        "id": "M-yuE4g-b4T7",
        "collapsed": true
      },
      "execution_count": null,
      "outputs": []
    },
    {
      "cell_type": "markdown",
      "source": [
        "$# Explorador de Archivos"
      ],
      "metadata": {
        "id": "b8UoTQlJP4HI"
      }
    },
    {
      "cell_type": "code",
      "source": [
        "# Carpetas\n",
        "!ls /content/runs/detect/predict\n",
        "\n",
        "# Drive\n",
        "# !ls /content/drive/MyDrive"
      ],
      "metadata": {
        "id": "SmFZWt53B3jv"
      },
      "execution_count": null,
      "outputs": []
    },
    {
      "cell_type": "markdown",
      "source": [
        "# Descargar los pesos"
      ],
      "metadata": {
        "id": "aUd8jsiReJi-"
      }
    },
    {
      "cell_type": "code",
      "source": [
        "from google.colab import files\n",
        "files.download('/content/runs/detect/train2/weights/best.pt')\n"
      ],
      "metadata": {
        "id": "UYff16ypzHyJ"
      },
      "execution_count": null,
      "outputs": []
    },
    {
      "cell_type": "markdown",
      "source": [
        "# Predicción sobre imágenes"
      ],
      "metadata": {
        "id": "T336TdHrnOzj"
      }
    },
    {
      "cell_type": "code",
      "source": [
        "model = YOLO(\"/content/runs/detect/train2/weights/best.pt\")\n",
        "results = model.predict(source=\"/content/test/images\", conf=0.5, save=True)"
      ],
      "metadata": {
        "collapsed": true,
        "id": "z627Wq9-nOfs"
      },
      "execution_count": null,
      "outputs": []
    },
    {
      "cell_type": "markdown",
      "source": [
        "# Visualización de una imagen con Matplotlib"
      ],
      "metadata": {
        "id": "Iyq-mkemoJGY"
      }
    },
    {
      "cell_type": "code",
      "source": [
        "img_path = \"/content/runs/detect/predict/frame_0005_jpg.rf.101eb2125b80847890294f2da6a0ea85.jpg\"\n",
        "\n",
        "\n",
        "img = cv2.imread(img_path)\n",
        "img = cv2.cvtColor(img, cv2.COLOR_BGR2RGB)\n",
        "\n",
        "plt.figure(figsize=(15, 10))\n",
        "plt.imshow(img)\n",
        "plt.axis(\"off\")\n",
        "plt.show()"
      ],
      "metadata": {
        "id": "RigsPELgoSWw",
        "collapsed": true
      },
      "execution_count": null,
      "outputs": []
    },
    {
      "cell_type": "code",
      "source": [
        "results = model.predict(\"/content/test/images/frame_0005_jpg.rf.101eb2125b80847890294f2da6a0ea85.jpg\")[0]\n",
        "annotated = results.plot()\n",
        "\n",
        "# Mostrar en Colab\n",
        "import matplotlib.pyplot as plt\n",
        "import cv2\n",
        "plt.imshow(cv2.cvtColor(annotated, cv2.COLOR_BGR2RGB))\n",
        "plt.axis(\"off\")\n",
        "plt.show()"
      ],
      "metadata": {
        "id": "kJNpEMWxkmd0"
      },
      "execution_count": null,
      "outputs": []
    },
    {
      "cell_type": "markdown",
      "source": [
        "# Validación del modelo"
      ],
      "metadata": {
        "id": "2IMISUgvo5Fq"
      }
    },
    {
      "cell_type": "code",
      "source": [
        "model = YOLO(\"/content/runs/detect/train2/weights/best.pt\")\n",
        "results = model.val(data=\"data.yaml\", split=\"test\")\n",
        "print(results)"
      ],
      "metadata": {
        "collapsed": true,
        "id": "gkpbPuhTo7s-"
      },
      "execution_count": null,
      "outputs": []
    },
    {
      "cell_type": "markdown",
      "source": [
        "# Predicción sobre video"
      ],
      "metadata": {
        "id": "hYQZuQjYpdkf"
      }
    },
    {
      "cell_type": "code",
      "source": [
        "video_path = \"/content/drive/MyDrive/wheelchair.mp4\"\n",
        "output_path = \"/content/drive/MyDrive/output.mp4\"\n",
        "\n",
        "cap = cv2.VideoCapture(video_path)\n",
        "frame_width = int(cap.get(cv2.CAP_PROP_FRAME_WIDTH))\n",
        "frame_height = int(cap.get(cv2.CAP_PROP_FRAME_HEIGHT))\n",
        "fps = int(cap.get(cv2.CAP_PROP_FPS))\n",
        "\n",
        "out = cv2.VideoWriter(output_path, cv2.VideoWriter_fourcc(*'mp4v'), fps, (frame_width, frame_height))\n",
        "\n",
        "# model = YOLO(\"/content/runs/detect/train2/weights/best.pt\")\n",
        "model = YOLO(\"/content/drive/MyDrive/best.pt\")\n",
        "\n",
        "\n",
        "while cap.isOpened():\n",
        "  ret, frame = cap.read()\n",
        "  if not ret:\n",
        "    break\n",
        "\n",
        "  results = model.predict(frame, conf=0.5)[0]\n",
        "\n",
        "  for box in results.boxes:\n",
        "    x1, y1, x2, y2 = map(int, box.xyxy[0])\n",
        "    #conf = float(box.conf[0])\n",
        "    #cls = int(box.cls[0])\n",
        "    #label = f\"{model.names[cls]} {conf:.2f}\"\n",
        "    conf = box.conf[0].item()\n",
        "    class_id = int(box.cls[0])\n",
        "    class_name = model.names[class_id]\n",
        "\n",
        "    label = f\"{class_name} {conf:.2f}\"\n",
        "\n",
        "    cv2.rectangle(frame, (x1, y1), (x2, y2), (0, 255, 0), 2)\n",
        "    cv2.putText(frame, label, (x1, y1-10), cv2.FONT_HERSHEY_SIMPLEX, 0.9, (0, 255, 0), 2)\n",
        "\n",
        "  out.write(frame)\n",
        "\n",
        "cap.release()\n",
        "out.release()\n",
        "#cv2.destroyAllWindows()"
      ],
      "metadata": {
        "id": "7ICWZZdVpit-",
        "collapsed": true
      },
      "execution_count": null,
      "outputs": []
    }
  ]
}